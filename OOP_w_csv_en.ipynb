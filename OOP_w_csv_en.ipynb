{
 "cells": [
  {
   "cell_type": "markdown",
   "metadata": {
    "colab_type": "text",
    "id": "7PqM_ekilZYm"
   },
   "source": [
    "## OOP: Polymorphism with CSV\n",
    "\n",
    "---"
   ]
  },
  {
   "cell_type": "code",
   "execution_count": 27,
   "metadata": {},
   "outputs": [
    {
     "data": {
      "text/plain": [
       "{'circle': [10],\n",
       " 'Square': [5],\n",
       " 'RECTANGLE': [4, 3],\n",
       " 'Triangle': [4, 3, 5],\n",
       " 'Trapezoid': [10, 20, 5, 5],\n",
       " 'rectaNgle': [10, 5],\n",
       " 'ReCtAngle': [5, 5]}"
      ]
     },
     "execution_count": 27,
     "metadata": {},
     "output_type": "execute_result"
    }
   ],
   "source": [
    "import pandas  as pd\n",
    "with open('Example.csv', 'r', encoding='utf-8') as f:\n",
    "    data = f.read()\n",
    "\n",
    "dt = data.split(\"\\n\")\n",
    "data_shape = {}\n",
    "for  item in dt:\n",
    "    parts = item.split(', ')\n",
    "    shape  = parts[0]\n",
    "    nums = list(map(int,parts[1:]))\n",
    "    data_shape[shape] = []\n",
    "    for i in nums:\n",
    "        data_shape[shape].append(i)\n",
    "    \n",
    "data_shape\n"
   ]
  },
  {
   "cell_type": "markdown",
   "metadata": {
    "colab_type": "text",
    "id": "tDjBRmhVlZYn"
   },
   "source": [
    "### Step 1\n",
    "\n",
    "Please design classes:\n",
    "1. ** Rectange ** (rectangle)\n",
    "2. ** Square ** (square)\n",
    "3. ** Circle ** (Circle)\n",
    "\n",
    "Thus, so that all the next blocks of codes lead to the expected results."
   ]
  },
  {
   "cell_type": "code",
   "execution_count": 28,
   "metadata": {
    "colab": {},
    "colab_type": "code",
    "id": "5d0E81z8lZYn"
   },
   "outputs": [],
   "source": [
    "class Rectangle:\n",
    "  def __init__(self, width=None, height=None):\n",
    "    # Начало вашего кода\n",
    "    self.width = height\n",
    "    self.height = width\n",
    "    # Конец вашего кода\n",
    "    \n",
    "  def __str__(self):  \n",
    "    # Начало вашего кода\n",
    "    return f\"Rectangle\"  \n",
    "    # Конец вашего кода\n",
    "\n",
    "  def calc_area(self):\n",
    "    # Начало вашего кода\n",
    "    return self.width * self.height  \n",
    "    # Конец вашего кода\n",
    "        \n",
    "  def calc_perimeter(self):\n",
    "    # Начало вашего кода\n",
    "    return 2 * (self.width + self.height)\n",
    "    # Конец вашего кода"
   ]
  },
  {
   "cell_type": "code",
   "execution_count": 29,
   "metadata": {
    "colab": {},
    "colab_type": "code",
    "id": "A-w7jPKhmF57"
   },
   "outputs": [],
   "source": [
    "class Square:\n",
    "  def __init__(self, side=None):\n",
    "    # Начало вашего кода\n",
    "    self.side = side\n",
    "    # Конец вашего кода\n",
    "\n",
    "  def __str__(self):\n",
    "    # Начало вашего кода\n",
    "    return f\"Square\" \n",
    "    # Конец вашего кода\n",
    "\n",
    "  def calc_area(self):\n",
    "    # Начало вашего кода\n",
    "    return self.side**2\n",
    "    # Конец вашего кода\n",
    "        \n",
    "  def calc_perimeter(self):\n",
    "    # Начало вашего кода\n",
    "    return self.side * 4\n",
    "    # Конец вашего кода"
   ]
  },
  {
   "cell_type": "code",
   "execution_count": 30,
   "metadata": {
    "colab": {},
    "colab_type": "code",
    "id": "8Pe8BHdNmOOi"
   },
   "outputs": [],
   "source": [
    "from math import pi\n",
    "\n",
    "class Circle:\n",
    "  def __init__(self, radius=None):\n",
    "    # Начало вашего кода\n",
    "    self.radius = radius\n",
    "    # Конец вашего кода\n",
    "    \n",
    "  def __str__(self):\n",
    "    # Начало вашего кода\n",
    "    return f\"Circle\" \n",
    "    # Конец вашего кода\n",
    "\n",
    "  def calc_area(self):\n",
    "    # Начало вашего кода\n",
    "    return (self.radius**2)  * pi \n",
    "    # Конец вашего кода\n",
    "        \n",
    "  def calc_perimeter(self):\n",
    "    # Начало вашего кода\n",
    "    return 2*self.radius * pi\n",
    "    # Конец вашего кода"
   ]
  },
  {
   "cell_type": "code",
   "execution_count": 31,
   "metadata": {
    "colab": {},
    "colab_type": "code",
    "id": "bbNXe1ZHNmSR"
   },
   "outputs": [],
   "source": [
    "r1 = Rectangle(width=3, height=4)\n",
    "s1 = Square(side=3)\n",
    "c1 = Circle(radius=5)"
   ]
  },
  {
   "cell_type": "code",
   "execution_count": 32,
   "metadata": {
    "colab": {
     "base_uri": "https://localhost:8080/",
     "height": 68
    },
    "colab_type": "code",
    "id": "rzAki95cNyD9",
    "outputId": "30dee728-6182-46c4-f6d9-b5f5958fb064"
   },
   "outputs": [
    {
     "name": "stdout",
     "output_type": "stream",
     "text": [
      "Rectangle\n",
      "Square\n",
      "Circle\n"
     ]
    }
   ],
   "source": [
    "print(r1)\n",
    "print(s1)\n",
    "print(c1)"
   ]
  },
  {
   "cell_type": "markdown",
   "metadata": {
    "colab_type": "text",
    "id": "V_3X5I_3NNo-"
   },
   "source": [
    "### Expected result:\n",
    "```\n",
    "Rectangle\n",
    "Square\n",
    "Circle\n",
    "```"
   ]
  },
  {
   "cell_type": "code",
   "execution_count": 33,
   "metadata": {
    "colab": {
     "base_uri": "https://localhost:8080/",
     "height": 68
    },
    "colab_type": "code",
    "id": "xpwnc8TMN5FK",
    "outputId": "541199a3-aba9-47dc-bda1-7e1c192c32fe"
   },
   "outputs": [
    {
     "name": "stdout",
     "output_type": "stream",
     "text": [
      "12\n",
      "12\n",
      "78.53981633974483\n"
     ]
    }
   ],
   "source": [
    "print(r1.calc_area())\n",
    "print(s1.calc_perimeter())\n",
    "print(c1.calc_area())"
   ]
  },
  {
   "cell_type": "markdown",
   "metadata": {
    "colab_type": "text",
    "id": "lrB7d6RXN5FR"
   },
   "source": [
    "### Expected result:\n",
    "```\n",
    "12\n",
    "12\n",
    "78.53981633974483\n",
    "```"
   ]
  },
  {
   "cell_type": "markdown",
   "metadata": {
    "colab_type": "text",
    "id": "6fFJ8Q_JOHrd"
   },
   "source": [
    "### Step 2\n",
    "\n",
    "Write the function ** Read_file (Filename) ** so that the argument transmitted to her ** filiname ** is the path to the data file. This function should return the list of classes of classes ** rectangle **, ** Square ** and ** circle **, depending on the data specified in the file.\n",
    "\n",
    "----\n",
    "\n",
    "### File with data \"Example.csv\":\n",
    "\n",
    "```\n",
    "circle, 10\n",
    "Square, 5\n",
    "RECTANGLE, 4, 3\n",
    "Triangle, 4, 3, 5\n",
    "Trapezoid, 10, 20, 5, 5\n",
    "rectaNgle, 10, 5\n",
    "ReCtAngle, 5, 5\n",
    "```\n",
    "\n",
    "## Out of the data format given in the file:\n",
    "\n",
    "* Circle with radius 10\n",
    "* Square with side 5\n",
    "* rectangle with a width of 4 and height 3\n",
    "* Triangle with sides 4, 3 and 5\n",
    "* Trapezius with sides 10, 20, 5 and 5\n",
    "* rectangle with a width of 10 and high 5\n",
    "* rectangle with a width of 5 and high 5\n",
    "\n",
    "Since we have only classes for ** rectangle **, ** square ** and ** circle **, all other figures should be discarded and not added to the final list of objects returned by the Read_File function. Therefore, the length of the list returned by the Read_file function should be 5, not 7 for this example.\n",
    "** Since a rectangle with the same width and height is a square, for figures of this type, create an object of the Square class instead of the Rectangle class. **\n",
    "\n",
    "After calling the Read_file function, as shown below:\n",
    "\n",
    "```\n",
    "list_of_figures = read_file(filename=\"./example.csv\")\n",
    "print(len(list_of_figures))\n",
    "```\n",
    "\n",
    "Expected result:\n",
    "```\n",
    "triangle is unknown figure\n",
    "trapezoid is unknown figure\n",
    "5\n",
    "```\n",
    "\n",
    "** Note: Please be careful, the name of the figures in the file can be written differently (that is, all the capital letters, all lowercase letters, or a combination of capital and lowercase letters), as shown above. **\n",
    "\n",
    "\n",
    "** Hint: ** Use rows methods to normalize the names of figures. Think about how you can use the methods of lines in your interests? What will be the result of the following lines of code?\n",
    "\n",
    "```\n",
    "print(\"Brad\" == \"brad\")\n",
    "print(\"john\".upper())\n",
    "```"
   ]
  },
  {
   "cell_type": "code",
   "execution_count": 34,
   "metadata": {
    "colab": {},
    "colab_type": "code",
    "id": "calxadgWmh5J"
   },
   "outputs": [],
   "source": [
    "import csv\n",
    "\n",
    "def read_file(filename=None):\n",
    "  list_of_figures = []\n",
    "  with open(filename, \"r\", encoding='utf-8')as file: \n",
    "    read = file.read()\n",
    "    data = read.split(\"\\n\")\n",
    "  for row in data:\n",
    "    part = row.split(\", \")\n",
    "    shape = part[0].strip().lower()\n",
    "\n",
    "    if shape == \"circle\" and len(part) == 2:\n",
    "      list_of_figures.append(Circle(float(part[1])))\n",
    "\n",
    "    elif shape == \"square\" and len(part) == 2:\n",
    "      list_of_figures.append(Square(float(part[1])))\n",
    "\n",
    "    elif shape == \"rectangle\" and len(part) == 3:\n",
    "      width, height = float(part[1]), float(part[2])\n",
    "\n",
    "      if width == height:\n",
    "        list_of_figures.append(Square(width))\n",
    "      else:\n",
    "        list_of_figures.append(Rectangle(width, height))\n",
    "\n",
    "    else:\n",
    "      print(f\"{shape} is unknown figure\")\n",
    "  return list_of_figures"
   ]
  },
  {
   "cell_type": "markdown",
   "metadata": {
    "colab_type": "text",
    "id": "hRhlmXYUVDSL"
   },
   "source": [
    "You are provided with a Figure.csv file, the path of which must be transferred as an argument of the file name to the Read_file function."
   ]
  },
  {
   "cell_type": "code",
   "execution_count": 35,
   "metadata": {
    "colab": {
     "base_uri": "https://localhost:8080/",
     "height": 34
    },
    "colab_type": "code",
    "id": "8jW1Cm_7nRAa",
    "outputId": "bdfdacf4-fa06-47c4-8496-191e1ad4d6bd"
   },
   "outputs": [
    {
     "name": "stdout",
     "output_type": "stream",
     "text": [
      "triangle is unknown figure\n",
      "trapezoid is unknown figure\n"
     ]
    }
   ],
   "source": [
    "list_of_figures = read_file(\"Example.csv\")\n"
   ]
  },
  {
   "cell_type": "markdown",
   "metadata": {
    "colab_type": "text",
    "id": "xfhNAUJCL6UN"
   },
   "source": [
    "### Expected result:\n",
    "```\n",
    "triangle is unknown figure\n",
    "```"
   ]
  },
  {
   "cell_type": "code",
   "execution_count": 36,
   "metadata": {
    "colab": {
     "base_uri": "https://localhost:8080/",
     "height": 170
    },
    "colab_type": "code",
    "id": "_nNsu0w_nkZP",
    "outputId": "42be2a1c-bc18-4f39-83a9-3c759c520c56"
   },
   "outputs": [
    {
     "data": {
      "text/plain": [
       "[<__main__.Circle at 0x1ed9c246690>,\n",
       " <__main__.Square at 0x1ed9c244950>,\n",
       " <__main__.Rectangle at 0x1ed99e01040>,\n",
       " <__main__.Rectangle at 0x1ed9c245370>,\n",
       " <__main__.Square at 0x1ed9c244830>]"
      ]
     },
     "execution_count": 36,
     "metadata": {},
     "output_type": "execute_result"
    }
   ],
   "source": [
    "list_of_figures"
   ]
  },
  {
   "cell_type": "markdown",
   "metadata": {
    "colab_type": "text",
    "id": "6c6d7ZghMoXy"
   },
   "source": [
    "### Expected result:\n",
    "```\n",
    "[<__main__.Circle at 0x7f7e0af5da20>,\n",
    " <__main__.Square at 0x7f7e0af5d9e8>,\n",
    " <__main__.Rectangle at 0x7f7e0af5d978>,\n",
    " <__main__.Circle at 0x7f7e0af5dac8>,\n",
    " <__main__.Rectangle at 0x7f7e0af5d9b0>,\n",
    " <__main__.Rectangle at 0x7f7e0af5db00>,\n",
    " <__main__.Rectangle at 0x7f7e0af5db38>,\n",
    " <__main__.Square at 0x7f7e0af5da90>,\n",
    " <__main__.Square at 0x7f7e0af5da58>]\n",
    "```"
   ]
  },
  {
   "cell_type": "code",
   "execution_count": 37,
   "metadata": {
    "colab": {
     "base_uri": "https://localhost:8080/",
     "height": 170
    },
    "colab_type": "code",
    "id": "KeQQdmPxqD_N",
    "outputId": "2bc5c80a-ec2e-4196-a6ef-a73c531f13ab"
   },
   "outputs": [
    {
     "name": "stdout",
     "output_type": "stream",
     "text": [
      "Circle\n",
      "Square\n",
      "Rectangle\n",
      "Rectangle\n",
      "Square\n"
     ]
    }
   ],
   "source": [
    "for fig in list_of_figures:\n",
    "  print(fig)"
   ]
  },
  {
   "cell_type": "markdown",
   "metadata": {
    "colab_type": "text",
    "id": "CXhlY7fSM2QA"
   },
   "source": [
    "### Expected result:\n",
    "```\n",
    "Circle\n",
    "Square\n",
    "Rectangle\n",
    "Circle\n",
    "Rectangle\n",
    "Rectangle\n",
    "Rectangle\n",
    "Square\n",
    "Square\n",
    "```"
   ]
  },
  {
   "cell_type": "markdown",
   "metadata": {
    "colab_type": "text",
    "id": "KEEjivdKdnuC"
   },
   "source": [
    "### Step 3\n",
    "\n",
    "Write the function ** get_perimeters (List_of_figures) **, which receives a list of objects as an argument. This function will print the perimeters of each object in the list (which are calculated by Calc_perimeter class)\n",
    "\n",
    "\n",
    "** Hint: ** How to derive numbers in a certain format?\n",
    "\n",
    "```\n",
    "print(\"{0}\".format(4/3))\n",
    "'1.3333333333333333'\n",
    "print(\"{0:f}\".format(4/3))\n",
    "'1.333333'\n",
    "print(\"{0:.2f}\".format(4/3))\n",
    "'1.33'\n",
    "print(\"{0:10.2f}\".format(4/3))\n",
    "'      1.33'\n",
    "print(\"{0:10e}\".format(4/3))\n",
    "'1.333333e+00'\n",
    "```"
   ]
  },
  {
   "cell_type": "code",
   "execution_count": 42,
   "metadata": {
    "colab": {},
    "colab_type": "code",
    "id": "_mpeeuRWqIjs"
   },
   "outputs": [],
   "source": [
    "def get_perimeters(list_of_figures):\n",
    "  # Начало вашего кода\n",
    "  for object in list_of_figures:\n",
    "    print(f'{object} has following perimeter: {f\"{object.calc_perimeter():10.2f}\".format(4/3)}')\n",
    "  # Конец вашего кода"
   ]
  },
  {
   "cell_type": "code",
   "execution_count": 43,
   "metadata": {
    "colab": {
     "base_uri": "https://localhost:8080/",
     "height": 170
    },
    "colab_type": "code",
    "id": "8_UIUlYgyP2j",
    "outputId": "398dade4-ee47-4f1d-ec67-10ca8be49694"
   },
   "outputs": [
    {
     "name": "stdout",
     "output_type": "stream",
     "text": [
      "Circle has following perimeter:      62.83\n",
      "Square has following perimeter:      20.00\n",
      "Rectangle has following perimeter:      14.00\n",
      "Rectangle has following perimeter:      30.00\n",
      "Square has following perimeter:      20.00\n"
     ]
    }
   ],
   "source": [
    "get_perimeters(list_of_figures)"
   ]
  },
  {
   "cell_type": "markdown",
   "metadata": {
    "colab_type": "text",
    "id": "zd9nkncoNAjX"
   },
   "source": [
    "### Expected result:\n",
    "```\n",
    "Circle has following perimeter: 31.42\n",
    "Square has following perimeter: 40.00\n",
    "Rectangle has following perimeter: 16.00\n",
    "Circle has following perimeter: 81.68\n",
    "Rectangle has following perimeter:  8.00\n",
    "Rectangle has following perimeter: 34.00\n",
    "Rectangle has following perimeter: 24.00\n",
    "Square has following perimeter: 400.00\n",
    "Square has following perimeter: 40.00\n",
    "```"
   ]
  },
  {
   "cell_type": "markdown",
   "metadata": {
    "colab_type": "text",
    "id": "UjRJt0F_s_UP"
   },
   "source": [
    "### Step 4\n",
    "\n",
    "Write the function ** get_areas (list_of_figures) **, which receives a list of objects as an argument. This function will print the area of ​​each object in the list (which are calculated by Calc_area class)"
   ]
  },
  {
   "cell_type": "code",
   "execution_count": 44,
   "metadata": {
    "colab": {},
    "colab_type": "code",
    "id": "B1bHPtB7yS6X"
   },
   "outputs": [],
   "source": [
    "def get_areas(list_of_figures):\n",
    "  # Начало вашего кода\n",
    "  for object in list_of_figures:\n",
    "    print(f'{object} has following perimeter: {f\"{object.calc_area():10.2f}\".format(4/3)}')\n",
    "  # Конец вашего кода"
   ]
  },
  {
   "cell_type": "code",
   "execution_count": 45,
   "metadata": {
    "colab": {
     "base_uri": "https://localhost:8080/",
     "height": 170
    },
    "colab_type": "code",
    "id": "N2h0_gKyy1NT",
    "outputId": "f9921541-11fd-4ecc-bb72-841262fbe490"
   },
   "outputs": [
    {
     "name": "stdout",
     "output_type": "stream",
     "text": [
      "Circle has following perimeter:     314.16\n",
      "Square has following perimeter:      25.00\n",
      "Rectangle has following perimeter:      12.00\n",
      "Rectangle has following perimeter:      50.00\n",
      "Square has following perimeter:      25.00\n"
     ]
    }
   ],
   "source": [
    "get_areas(list_of_figures)"
   ]
  },
  {
   "cell_type": "markdown",
   "metadata": {
    "colab_type": "text",
    "id": "2uY2RSOMNF2o"
   },
   "source": [
    "### Expected result:\n",
    "```\n",
    "Circle has following area: 78.54\n",
    "Square has following area: 100.00\n",
    "Rectangle has following area: 15.00\n",
    "Circle has following area: 530.93\n",
    "Rectangle has following area:  3.00\n",
    "Rectangle has following area: 60.00\n",
    "Rectangle has following area: 32.00\n",
    "Square has following area: 10000.00\n",
    "Square has following area: 100.00\n",
    "```"
   ]
  }
 ],
 "metadata": {
  "colab": {
   "collapsed_sections": [],
   "name": "OOP-hw7-sol.ipynb",
   "provenance": [],
   "toc_visible": true
  },
  "kernelspec": {
   "display_name": "base",
   "language": "python",
   "name": "python3"
  },
  "language_info": {
   "codemirror_mode": {
    "name": "ipython",
    "version": 3
   },
   "file_extension": ".py",
   "mimetype": "text/x-python",
   "name": "python",
   "nbconvert_exporter": "python",
   "pygments_lexer": "ipython3",
   "version": "3.12.7"
  }
 },
 "nbformat": 4,
 "nbformat_minor": 1
}
