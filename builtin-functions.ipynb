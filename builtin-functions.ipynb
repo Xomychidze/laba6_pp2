{
 "cells": [
  {
   "cell_type": "markdown",
   "metadata": {},
   "source": [
    "1. Write a Python program with builtin function to multiply all the numbers in a list\n",
    "w"
   ]
  },
  {
   "cell_type": "code",
   "execution_count": 7,
   "metadata": {},
   "outputs": [
    {
     "name": "stdout",
     "output_type": "stream",
     "text": [
      "270\n"
     ]
    }
   ],
   "source": [
    "l = list(map(int, input().split()))\n",
    "\n",
    "def multy(l):\n",
    "    m_all = 1\n",
    "    for i in l:\n",
    "        m_all *= i\n",
    "        \n",
    "    return m_all\n",
    "\n",
    "ml = multy(l)\n",
    "print(ml)\n",
    "\n",
    "\n"
   ]
  },
  {
   "cell_type": "markdown",
   "metadata": {},
   "source": [
    "\n",
    "2. Write a Python program with builtin function that accepts a string and calculate the number of upper case letters and lower case letters"
   ]
  },
  {
   "cell_type": "code",
   "execution_count": 23,
   "metadata": {},
   "outputs": [
    {
     "name": "stdout",
     "output_type": "stream",
     "text": [
      "jggngjKGHFJF\n",
      "6 6\n"
     ]
    }
   ],
   "source": [
    "l = input()\n",
    "print(l)\n",
    "ul = sum(1 for x in l if x.isupper())  \n",
    "ll = sum(1 for x in l if x.islower())  \n",
    "\n",
    "print(ul, ll)\n"
   ]
  },
  {
   "cell_type": "markdown",
   "metadata": {},
   "source": [
    "3. Write a Python program with builtin function that checks whether a passed string is palindrome or not."
   ]
  },
  {
   "cell_type": "code",
   "execution_count": 26,
   "metadata": {},
   "outputs": [
    {
     "name": "stdout",
     "output_type": "stream",
     "text": [
      "True\n"
     ]
    }
   ],
   "source": [
    "pal = input()\n",
    "\n",
    "print(pal == pal[::-1]) "
   ]
  },
  {
   "cell_type": "markdown",
   "metadata": {},
   "source": [
    "4. Write a Python program that invoke square root function after specific milliseconds. \n",
    "    ```\n",
    "    Sample Input:\n",
    "    25100\n",
    "    2123\n",
    "    Sample Output:\n",
    "    Square root of 25100 after 2123 miliseconds is 158.42979517754858\n",
    "    ````"
   ]
  },
  {
   "cell_type": "code",
   "execution_count": 29,
   "metadata": {},
   "outputs": [
    {
     "name": "stdout",
     "output_type": "stream",
     "text": [
      "Square root of 25100 after 2123 milliseconds is 158.42979517754858\n"
     ]
    }
   ],
   "source": [
    "import time\n",
    "import math\n",
    "\n",
    "\n",
    "num = int(input())  \n",
    "delay = int(input())  \n",
    "\n",
    "time.sleep(delay / 1000)  \n",
    "\n",
    "result = math.sqrt(num)\n",
    "\n",
    "print(f\"Square root of {num} after {delay} milliseconds is {result}\")\n"
   ]
  },
  {
   "cell_type": "markdown",
   "metadata": {},
   "source": [
    "5. Write a Python program with builtin function that returns True if all elements of the tuple are true."
   ]
  },
  {
   "cell_type": "code",
   "execution_count": 51,
   "metadata": {},
   "outputs": [
    {
     "name": "stdout",
     "output_type": "stream",
     "text": [
      "(14, 765, 0, 4)\n",
      "False\n"
     ]
    }
   ],
   "source": [
    "def t_true(tup):\n",
    "    return all(tup) \n",
    "\n",
    "tupl = tuple(map(int, input().split())) \n",
    "\n",
    "print(tupl)\n",
    "print(t_true(tupl))\n"
   ]
  }
 ],
 "metadata": {
  "kernelspec": {
   "display_name": "base",
   "language": "python",
   "name": "python3"
  },
  "language_info": {
   "codemirror_mode": {
    "name": "ipython",
    "version": 3
   },
   "file_extension": ".py",
   "mimetype": "text/x-python",
   "name": "python",
   "nbconvert_exporter": "python",
   "pygments_lexer": "ipython3",
   "version": "3.12.7"
  }
 },
 "nbformat": 4,
 "nbformat_minor": 2
}
