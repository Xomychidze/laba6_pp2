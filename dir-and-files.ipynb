{
 "cells": [
  {
   "cell_type": "markdown",
   "metadata": {},
   "source": [
    "1. Write a Python program to list only directories, files and all directories, files in a specified path. "
   ]
  },
  {
   "cell_type": "code",
   "execution_count": 15,
   "metadata": {},
   "outputs": [
    {
     "name": "stdout",
     "output_type": "stream",
     "text": [
      "Files:\n",
      "builtin-functions.ipynb\n",
      "builtin-functions.md\n",
      "dir-and-files.ipynb\n",
      "dir-and-files.md\n",
      "Example.csv\n",
      "letter\n",
      "OOP_w_csv_en.ipynb\n",
      "README.md\n",
      "text file.txt\n",
      "Directories:\n",
      "letter\n"
     ]
    }
   ],
   "source": [
    "import os\n",
    "\n",
    "path = \"C:/Users/timur/OneDrive/Рабочий стол/Laba6_pp2\"\n",
    "obj = os.scandir(path)\n",
    "print(\"Files:\")\n",
    "for entry in obj:\n",
    "    if entry.is_dir() or entry.is_file():\n",
    "        print(entry.name)\n",
    "\n",
    "directories = [d for d in os.listdir(path) if os.path.isdir(os.path.join(path, d))]\n",
    "print(\"Directories:\")\n",
    "print(\"\\n\".join(directories) if directories else \"No directories found.\")"
   ]
  },
  {
   "cell_type": "markdown",
   "metadata": {},
   "source": [
    "2. Write a Python program to check for access to a specified path. Test the existence, readability, writability and executability of the specified path"
   ]
  },
  {
   "cell_type": "code",
   "execution_count": 16,
   "metadata": {},
   "outputs": [
    {
     "name": "stdout",
     "output_type": "stream",
     "text": [
      "Exists: True\n",
      "Can read: True\n",
      "Can write: True\n",
      "Can execute: True\n"
     ]
    }
   ],
   "source": [
    "import os\n",
    "\n",
    "def check_access(fpath):\n",
    "    yield f'Exists: {os.path.exists(fpath)}'\n",
    "    yield f'Can read: {os.access(fpath, os.R_OK)}'\n",
    "    yield f'Can write: {os.access(fpath, os.W_OK)}'\n",
    "    yield f'Can execute: {os.access(fpath, os.X_OK)}'\n",
    "\n",
    "\n",
    "for info in check_access(path):\n",
    "    print(info)\n"
   ]
  },
  {
   "cell_type": "markdown",
   "metadata": {},
   "source": [
    "3. Write a Python program to test whether a given path exists or not. If the path exist find the filename and directory portion of the given path. \n"
   ]
  },
  {
   "cell_type": "code",
   "execution_count": 17,
   "metadata": {},
   "outputs": [
    {
     "name": "stdout",
     "output_type": "stream",
     "text": [
      "Path exists!\n",
      "Directory: C:/Users/timur/OneDrive/Рабочий стол\n",
      "Filename: Laba6_pp2\n"
     ]
    }
   ],
   "source": [
    "def check_path(fpath):\n",
    "    if os.path.exists(fpath):\n",
    "        print(\"Path exists!\")\n",
    "        directory = os.path.dirname(fpath)\n",
    "        filename = os.path.basename(fpath)\n",
    "        print(f\"Directory: {directory}\")\n",
    "        print(f\"Filename: {filename}\")\n",
    "    else:\n",
    "        return False\n",
    "check_path(path)"
   ]
  },
  {
   "cell_type": "markdown",
   "metadata": {},
   "source": [
    "4. Write a Python program to count the number of lines in a text file."
   ]
  },
  {
   "cell_type": "code",
   "execution_count": 18,
   "metadata": {},
   "outputs": [
    {
     "name": "stdout",
     "output_type": "stream",
     "text": [
      "Number of lines: 5\n"
     ]
    }
   ],
   "source": [
    "def count_lines(path_text):\n",
    "    if os.path.exists(path_text):\n",
    "        with open(path_text, 'r') as file:\n",
    "            lines = file.readlines()\n",
    "            data = file.read()\n",
    "            print(f\"Number of lines: {len(lines)}\")\n",
    "        for i in data:\n",
    "            print(i)\n",
    "    else: \n",
    "        return \"Don't exits\"\n",
    "  \n",
    "path_file = \"text file.txt\"\n",
    "  \n",
    "count_lines(path_file)"
   ]
  },
  {
   "cell_type": "markdown",
   "metadata": {},
   "source": [
    "5. Write a Python program to write a list to a file.\n"
   ]
  },
  {
   "cell_type": "code",
   "execution_count": 19,
   "metadata": {},
   "outputs": [
    {
     "name": "stdout",
     "output_type": "stream",
     "text": [
      "List written to text file.txt\n"
     ]
    }
   ],
   "source": [
    "def write_file(file_path, data_list):\n",
    "    if os.path.exists(file_path):\n",
    "        with open(file_path, 'w') as file:\n",
    "            for item in data_list:\n",
    "                file.write(f\"{item}\\n\")\n",
    "        print(f\"List written to {file_path}\")\n",
    "    else:\n",
    "        return \"Don't exits, so poshel otsyda\"\n",
    "    \n",
    "write_file(path_file, ['I','want','60 point','by','pp2'])\n"
   ]
  },
  {
   "cell_type": "markdown",
   "metadata": {},
   "source": [
    "6. Write a Python program to generate 26 text files named A.txt, B.txt, and so on up to Z.txt\n"
   ]
  },
  {
   "cell_type": "code",
   "execution_count": 20,
   "metadata": {},
   "outputs": [
    {
     "name": "stdout",
     "output_type": "stream",
     "text": [
      "Created A.txt\n",
      "Created B.txt\n",
      "Created C.txt\n",
      "Created D.txt\n",
      "Created E.txt\n",
      "Created F.txt\n",
      "Created G.txt\n",
      "Created H.txt\n",
      "Created I.txt\n",
      "Created J.txt\n",
      "Created K.txt\n",
      "Created L.txt\n",
      "Created M.txt\n",
      "Created N.txt\n",
      "Created O.txt\n",
      "Created P.txt\n",
      "Created Q.txt\n",
      "Created R.txt\n",
      "Created S.txt\n",
      "Created T.txt\n",
      "Created U.txt\n",
      "Created V.txt\n",
      "Created W.txt\n",
      "Created X.txt\n",
      "Created Y.txt\n",
      "Created Z.txt\n"
     ]
    }
   ],
   "source": [
    "def generate_text_files():\n",
    "    for letter in range(65, 91): \n",
    "        filename = f\"{chr(letter)}.txt\"\n",
    "        with open(filename, 'w') as file:\n",
    "            file.write(f\"This is {filename}\\n\")\n",
    "        print(f\"Created {filename}\")\n",
    "        \n",
    "generate_text_files()"
   ]
  },
  {
   "cell_type": "markdown",
   "metadata": {},
   "source": [
    "7. Write a Python program to copy the contents of a file to another file  \n"
   ]
  },
  {
   "cell_type": "code",
   "execution_count": 21,
   "metadata": {},
   "outputs": [
    {
     "name": "stdout",
     "output_type": "stream",
     "text": [
      "Contents copied from B.txt to A.txt\n"
     ]
    }
   ],
   "source": [
    "def copy_file(source_path, destination_path):\n",
    "    if os.path.exists(source_path) & os.path.exists(source_path):\n",
    "        with open(source_path, 'r') as source:\n",
    "            content = source.read()\n",
    "        with open(destination_path, 'w') as destination:\n",
    "            destination.write(content)\n",
    "        print(f\"Contents copied from {source_path} to {destination_path}\")\n",
    "    elif os.path.exists(source_path):\n",
    "       return f\"don't have vo etot path {destination_path}\"        \n",
    "    elif os.path.exists(destination_path):\n",
    "       return f\"don't have vo etot path {source_path}\" \n",
    "    else: \n",
    "        return \"don't have voobshe kakieto paths\"\n",
    "    \n",
    "copy_file('B.txt','A.txt')\n",
    "    "
   ]
  },
  {
   "cell_type": "markdown",
   "metadata": {},
   "source": [
    "8. Write a Python program to delete file by specified path. Before deleting check for access and whether a given path exists or not.\n"
   ]
  },
  {
   "cell_type": "code",
   "execution_count": 22,
   "metadata": {},
   "outputs": [
    {
     "name": "stdout",
     "output_type": "stream",
     "text": [
      "File A.txt deleted.\n",
      "File B.txt deleted.\n",
      "File C.txt deleted.\n",
      "File D.txt deleted.\n",
      "File E.txt deleted.\n",
      "File F.txt deleted.\n",
      "File G.txt deleted.\n",
      "File H.txt deleted.\n",
      "File I.txt deleted.\n",
      "File J.txt deleted.\n",
      "File K.txt deleted.\n",
      "File L.txt deleted.\n",
      "File M.txt deleted.\n",
      "File N.txt deleted.\n",
      "File O.txt deleted.\n",
      "File P.txt deleted.\n",
      "File Q.txt deleted.\n",
      "File R.txt deleted.\n",
      "File S.txt deleted.\n",
      "File T.txt deleted.\n",
      "File U.txt deleted.\n",
      "File V.txt deleted.\n",
      "File W.txt deleted.\n",
      "File X.txt deleted.\n",
      "File Y.txt deleted.\n",
      "File Z.txt deleted.\n"
     ]
    }
   ],
   "source": [
    "def delete_file():\n",
    "    for letter in range(65, 91): \n",
    "        filename = f\"{chr(letter)}.txt\"\n",
    "        if os.path.exists(filename) and os.access(filename, os.W_OK):\n",
    "            os.remove(filename)\n",
    "            print(f\"File {filename} deleted.\")\n",
    "        else:\n",
    "            print(\"File not found or access denied.\")\n",
    "delete_file()"
   ]
  }
 ],
 "metadata": {
  "kernelspec": {
   "display_name": "base",
   "language": "python",
   "name": "python3"
  },
  "language_info": {
   "codemirror_mode": {
    "name": "ipython",
    "version": 3
   },
   "file_extension": ".py",
   "mimetype": "text/x-python",
   "name": "python",
   "nbconvert_exporter": "python",
   "pygments_lexer": "ipython3",
   "version": "3.12.7"
  }
 },
 "nbformat": 4,
 "nbformat_minor": 2
}
